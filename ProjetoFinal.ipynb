{
 "cells": [
  {
   "cell_type": "markdown",
   "metadata": {},
   "source": [
    "# Desenvolvimento de rede neural artifical para predição de defeitos em motor redutor\n",
    "\n",
    "> #### Equipe: \n",
    "> Raul Bernardo de Pontes Pires;\n",
    "> \n",
    "> Wellyosn Carlos Pontes da Silva.\n",
    "> "
   ]
  },
  {
   "cell_type": "markdown",
   "metadata": {},
   "source": [
    "O objetivo central deste projeto é criar uma rede neural dedicada à previsão de falhas em motores por meio da análise de áudio. Inicialmente, realizamos a coleta de áudios do motor em pleno funcionamento e em perfeitas condições. Posteriormente, o motor foi submetido a uma série de problemas, e os áudios foram coletados novamente.\n",
    "\n",
    "Com a base de áudios em mãos, iniciamos o processo de desenvolvimento da rede neural. O primeiro passo é a padronização dos dados, seguindo o seguinte fluxo:\n",
    "\n",
    "1. Aplicação da Transformada Rápida de Fourier (FFT) em cada áudio.\n",
    "2. Correlação dos 5 maiores picos da FFT de cada áudio.\n",
    "3. Armazenamento desses dados em uma tabela CSV.\n",
    "\n",
    "Para facilitar esse processo, foi desenvolvido um sistema que percorre a pasta _`audios`_. Essa pasta contém subpastas correspondentes a cada tipo de defeito ao qual o motor foi submetido. O sistema entra em cada subpasta, aplica o fluxo mencionado anteriormente e preenche a tabela CSV com as informações relevantes.\n",
    "\n"
   ]
  },
  {
   "cell_type": "markdown",
   "metadata": {},
   "source": [
    "## Aquisição dos dados\n",
    "\n",
    "* Instalando algumas das bibliotecas que serão utilizadas no projeto."
   ]
  },
  {
   "cell_type": "code",
   "execution_count": 10,
   "metadata": {},
   "outputs": [],
   "source": [
    "import os\n",
    "import numpy as np\n",
    "import librosa as lib\n",
    "import csv\n",
    "import pandas as pd\n",
    "from scipy.stats import kurtosis"
   ]
  },
  {
   "cell_type": "markdown",
   "metadata": {},
   "source": [
    "- Vamos criar uma variável chamada _`pasta_principal`_ que armazenará a String relativa ao local onde os audios serão depositados;\n",
    "- Vamos criar também uma variável (_`resultados_por_audio`_) que será responsavél de armazenar os dados relativos a criação da tabela CSV."
   ]
  },
  {
   "cell_type": "code",
   "execution_count": 11,
   "metadata": {},
   "outputs": [],
   "source": [
    "pasta_principal = \"audios\"\n",
    "\n",
    "resultados_por_audio = []"
   ]
  },
  {
   "cell_type": "markdown",
   "metadata": {},
   "source": [
    "Aqui está o código em que percorremos todas as subpastas da pasta _`audios`_, entrando em cada uma e iterando sobre todos os áudios presentes. Durante esse processo, a variável _`resultados_por_audio`_ é preenchida com informações relevantes:\n",
    "\n",
    "- **Objetivo:** Armazenar os 5 maiores valores (frequência e amplitude) da FFT de cada áudio.\n",
    "- **Inclusões na variável _`resultados_por_audio`_:**\n",
    "  - Nome do arquivo.\n",
    "  - Tipo de defeito (correspondente ao nome da subpasta).\n",
    "  - Valores de desvio padrão, Kurtosis e RMS.\n",
    "\n"
   ]
  },
  {
   "cell_type": "code",
   "execution_count": 12,
   "metadata": {},
   "outputs": [],
   "source": [
    "for subpasta in os.listdir(pasta_principal):\n",
    "    caminho_subpasta = os.path.join(pasta_principal, subpasta)\n",
    "\n",
    "    if os.path.isdir(caminho_subpasta):\n",
    "        arquivos_audios = [f for f in os.listdir(caminho_subpasta) if f.endswith(\".wav\")]\n",
    "\n",
    "        for arquivo_audio in arquivos_audios:\n",
    "            caminho_audio = os.path.join(caminho_subpasta, arquivo_audio)\n",
    "            sinal, fs = lib.load(caminho_audio)\n",
    "            sinal = sinal[:5 * fs]\n",
    "            n = len(sinal)\n",
    "            janela = np.hamming(n)\n",
    "            sinal_janelado = janela * sinal\n",
    "            Y = np.abs(np.fft.fft(sinal_janelado)) / n\n",
    "            frequencias = np.linspace(0, fs / 2, n // 2)  \n",
    "            \n",
    "            std_dev = np.std(sinal) \n",
    "            kurt = kurtosis(sinal) \n",
    "            rms = np.sqrt(np.mean(sinal**2))  \n",
    "\n",
    "            frequencias = frequencias[:n // 2]\n",
    "            amplitudes = Y[:n // 2]\n",
    "\n",
    "            indices_maiores = np.argsort(amplitudes)[::-1][:5]\n",
    "\n",
    "            resultados_por_audio.append({\n",
    "                \"Defeito\": subpasta,\n",
    "                \"DesvioPadrão\": std_dev,\n",
    "                \"Kurtosis\": kurt,\n",
    "                \"rms\": rms,\n",
    "                \"CincoMaioresPontos\": [(frequencias[i], amplitudes[i]) for i in indices_maiores]\n",
    "            })"
   ]
  },
  {
   "cell_type": "markdown",
   "metadata": {},
   "source": [
    "De posse da variável _`resultados_por_audio`_ já povoada, podemos então criar a tabela CSV."
   ]
  },
  {
   "cell_type": "code",
   "execution_count": 13,
   "metadata": {},
   "outputs": [
    {
     "name": "stdout",
     "output_type": "stream",
     "text": [
      "Resultados foram escritos no arquivo CSV: resultados.csv\n"
     ]
    }
   ],
   "source": [
    "with open('resultados.csv', 'w', newline='') as csvfile:\n",
    "    colunas = [\"defeito\", \"desvio_padrao\", \"kurtosis\", \"rms\", \"frequencia_1\", \"amplitude_1\", \"frequencia_2\", \"amplitude_2\", \"frequencia_3\", \"amplitude_3\", \"frequencia_4\", \"amplitude_4\", \"frequencia_5\", \"amplitude_5\"]\n",
    "    csv_writer = csv.DictWriter(csvfile, fieldnames=colunas)\n",
    "    csv_writer.writeheader()\n",
    "\n",
    "    for resultado in resultados_por_audio:\n",
    "        linha = {\"defeito\": resultado[\"Defeito\"], \"desvio_padrao\": resultado[\"DesvioPadrão\"], \"kurtosis\": resultado[\"Kurtosis\"], \"rms\": resultado[\"rms\"] }\n",
    "        for i, ponto in enumerate(resultado[\"CincoMaioresPontos\"], start=1):\n",
    "            linha[f\"frequencia_{i}\"] = ponto[0]\n",
    "            linha[f\"amplitude_{i}\"] = ponto[1]\n",
    "        csv_writer.writerow(linha)\n",
    "\n",
    "print(\"Resultados foram escritos no arquivo CSV: resultados.csv\")"
   ]
  },
  {
   "cell_type": "markdown",
   "metadata": {},
   "source": [
    "Por fim, podemos plotar os 10 primeiros items da tabela."
   ]
  },
  {
   "cell_type": "code",
   "execution_count": 14,
   "metadata": {},
   "outputs": [
    {
     "data": {
      "text/html": [
       "<div>\n",
       "<style scoped>\n",
       "    .dataframe tbody tr th:only-of-type {\n",
       "        vertical-align: middle;\n",
       "    }\n",
       "\n",
       "    .dataframe tbody tr th {\n",
       "        vertical-align: top;\n",
       "    }\n",
       "\n",
       "    .dataframe thead th {\n",
       "        text-align: right;\n",
       "    }\n",
       "</style>\n",
       "<table border=\"1\" class=\"dataframe\">\n",
       "  <thead>\n",
       "    <tr style=\"text-align: right;\">\n",
       "      <th></th>\n",
       "      <th>defeito</th>\n",
       "      <th>desvio_padrao</th>\n",
       "      <th>kurtosis</th>\n",
       "      <th>rms</th>\n",
       "      <th>frequencia_1</th>\n",
       "      <th>amplitude_1</th>\n",
       "      <th>frequencia_2</th>\n",
       "      <th>amplitude_2</th>\n",
       "      <th>frequencia_3</th>\n",
       "      <th>amplitude_3</th>\n",
       "      <th>frequencia_4</th>\n",
       "      <th>amplitude_4</th>\n",
       "      <th>frequencia_5</th>\n",
       "      <th>amplitude_5</th>\n",
       "    </tr>\n",
       "  </thead>\n",
       "  <tbody>\n",
       "    <tr>\n",
       "      <th>0</th>\n",
       "      <td>Sobrecarga9</td>\n",
       "      <td>0.041385</td>\n",
       "      <td>1.032346</td>\n",
       "      <td>0.041385</td>\n",
       "      <td>968.617571</td>\n",
       "      <td>0.002954</td>\n",
       "      <td>675.212249</td>\n",
       "      <td>0.002345</td>\n",
       "      <td>675.012245</td>\n",
       "      <td>0.002234</td>\n",
       "      <td>968.817575</td>\n",
       "      <td>0.001727</td>\n",
       "      <td>1086.019701</td>\n",
       "      <td>0.001690</td>\n",
       "    </tr>\n",
       "    <tr>\n",
       "      <th>1</th>\n",
       "      <td>Sobrecarga9</td>\n",
       "      <td>0.040538</td>\n",
       "      <td>1.302957</td>\n",
       "      <td>0.040538</td>\n",
       "      <td>970.417604</td>\n",
       "      <td>0.002844</td>\n",
       "      <td>676.412271</td>\n",
       "      <td>0.001894</td>\n",
       "      <td>676.212267</td>\n",
       "      <td>0.001846</td>\n",
       "      <td>970.217600</td>\n",
       "      <td>0.001843</td>\n",
       "      <td>980.217782</td>\n",
       "      <td>0.001685</td>\n",
       "    </tr>\n",
       "    <tr>\n",
       "      <th>2</th>\n",
       "      <td>Sobrecarga9</td>\n",
       "      <td>0.040352</td>\n",
       "      <td>1.078663</td>\n",
       "      <td>0.040352</td>\n",
       "      <td>968.617571</td>\n",
       "      <td>0.002600</td>\n",
       "      <td>675.012245</td>\n",
       "      <td>0.002581</td>\n",
       "      <td>675.212249</td>\n",
       "      <td>0.001965</td>\n",
       "      <td>1086.019701</td>\n",
       "      <td>0.001687</td>\n",
       "      <td>381.606923</td>\n",
       "      <td>0.001662</td>\n",
       "    </tr>\n",
       "    <tr>\n",
       "      <th>3</th>\n",
       "      <td>Sobrecarga9</td>\n",
       "      <td>0.040512</td>\n",
       "      <td>1.052567</td>\n",
       "      <td>0.040512</td>\n",
       "      <td>969.217582</td>\n",
       "      <td>0.002811</td>\n",
       "      <td>675.612256</td>\n",
       "      <td>0.002451</td>\n",
       "      <td>675.412252</td>\n",
       "      <td>0.002359</td>\n",
       "      <td>1086.619712</td>\n",
       "      <td>0.001643</td>\n",
       "      <td>998.618116</td>\n",
       "      <td>0.001617</td>\n",
       "    </tr>\n",
       "    <tr>\n",
       "      <th>4</th>\n",
       "      <td>Sobrecarga9</td>\n",
       "      <td>0.041496</td>\n",
       "      <td>0.955755</td>\n",
       "      <td>0.041496</td>\n",
       "      <td>676.012263</td>\n",
       "      <td>0.002802</td>\n",
       "      <td>969.817593</td>\n",
       "      <td>0.002314</td>\n",
       "      <td>970.017597</td>\n",
       "      <td>0.002134</td>\n",
       "      <td>823.014930</td>\n",
       "      <td>0.001693</td>\n",
       "      <td>702.812749</td>\n",
       "      <td>0.001656</td>\n",
       "    </tr>\n",
       "    <tr>\n",
       "      <th>5</th>\n",
       "      <td>Sobrecarga9</td>\n",
       "      <td>0.041655</td>\n",
       "      <td>0.907838</td>\n",
       "      <td>0.041655</td>\n",
       "      <td>970.217600</td>\n",
       "      <td>0.002968</td>\n",
       "      <td>676.212267</td>\n",
       "      <td>0.002879</td>\n",
       "      <td>823.214934</td>\n",
       "      <td>0.002061</td>\n",
       "      <td>703.212757</td>\n",
       "      <td>0.001911</td>\n",
       "      <td>382.206933</td>\n",
       "      <td>0.001696</td>\n",
       "    </tr>\n",
       "    <tr>\n",
       "      <th>6</th>\n",
       "      <td>Sobrecarga9</td>\n",
       "      <td>0.040544</td>\n",
       "      <td>1.091199</td>\n",
       "      <td>0.040544</td>\n",
       "      <td>675.612256</td>\n",
       "      <td>0.002331</td>\n",
       "      <td>969.217582</td>\n",
       "      <td>0.002320</td>\n",
       "      <td>998.618116</td>\n",
       "      <td>0.001815</td>\n",
       "      <td>381.806926</td>\n",
       "      <td>0.001693</td>\n",
       "      <td>675.412252</td>\n",
       "      <td>0.001667</td>\n",
       "    </tr>\n",
       "    <tr>\n",
       "      <th>7</th>\n",
       "      <td>Sobrecarga9</td>\n",
       "      <td>0.039735</td>\n",
       "      <td>1.271067</td>\n",
       "      <td>0.039735</td>\n",
       "      <td>970.417604</td>\n",
       "      <td>0.002597</td>\n",
       "      <td>676.412271</td>\n",
       "      <td>0.001876</td>\n",
       "      <td>676.212267</td>\n",
       "      <td>0.001689</td>\n",
       "      <td>999.818137</td>\n",
       "      <td>0.001682</td>\n",
       "      <td>970.217600</td>\n",
       "      <td>0.001606</td>\n",
       "    </tr>\n",
       "    <tr>\n",
       "      <th>8</th>\n",
       "      <td>Sobrecarga9</td>\n",
       "      <td>0.040676</td>\n",
       "      <td>1.198556</td>\n",
       "      <td>0.040676</td>\n",
       "      <td>970.217600</td>\n",
       "      <td>0.002373</td>\n",
       "      <td>676.212267</td>\n",
       "      <td>0.001882</td>\n",
       "      <td>970.017597</td>\n",
       "      <td>0.001715</td>\n",
       "      <td>735.013334</td>\n",
       "      <td>0.001709</td>\n",
       "      <td>972.617644</td>\n",
       "      <td>0.001675</td>\n",
       "    </tr>\n",
       "    <tr>\n",
       "      <th>9</th>\n",
       "      <td>Sobrecarga9</td>\n",
       "      <td>0.040883</td>\n",
       "      <td>1.073248</td>\n",
       "      <td>0.040883</td>\n",
       "      <td>675.212249</td>\n",
       "      <td>0.002650</td>\n",
       "      <td>968.617571</td>\n",
       "      <td>0.002413</td>\n",
       "      <td>968.817575</td>\n",
       "      <td>0.002012</td>\n",
       "      <td>675.012245</td>\n",
       "      <td>0.001854</td>\n",
       "      <td>381.606923</td>\n",
       "      <td>0.001702</td>\n",
       "    </tr>\n",
       "  </tbody>\n",
       "</table>\n",
       "</div>"
      ],
      "text/plain": [
       "       defeito  desvio_padrao  kurtosis       rms  frequencia_1  amplitude_1  \\\n",
       "0  Sobrecarga9       0.041385  1.032346  0.041385    968.617571     0.002954   \n",
       "1  Sobrecarga9       0.040538  1.302957  0.040538    970.417604     0.002844   \n",
       "2  Sobrecarga9       0.040352  1.078663  0.040352    968.617571     0.002600   \n",
       "3  Sobrecarga9       0.040512  1.052567  0.040512    969.217582     0.002811   \n",
       "4  Sobrecarga9       0.041496  0.955755  0.041496    676.012263     0.002802   \n",
       "5  Sobrecarga9       0.041655  0.907838  0.041655    970.217600     0.002968   \n",
       "6  Sobrecarga9       0.040544  1.091199  0.040544    675.612256     0.002331   \n",
       "7  Sobrecarga9       0.039735  1.271067  0.039735    970.417604     0.002597   \n",
       "8  Sobrecarga9       0.040676  1.198556  0.040676    970.217600     0.002373   \n",
       "9  Sobrecarga9       0.040883  1.073248  0.040883    675.212249     0.002650   \n",
       "\n",
       "   frequencia_2  amplitude_2  frequencia_3  amplitude_3  frequencia_4  \\\n",
       "0    675.212249     0.002345    675.012245     0.002234    968.817575   \n",
       "1    676.412271     0.001894    676.212267     0.001846    970.217600   \n",
       "2    675.012245     0.002581    675.212249     0.001965   1086.019701   \n",
       "3    675.612256     0.002451    675.412252     0.002359   1086.619712   \n",
       "4    969.817593     0.002314    970.017597     0.002134    823.014930   \n",
       "5    676.212267     0.002879    823.214934     0.002061    703.212757   \n",
       "6    969.217582     0.002320    998.618116     0.001815    381.806926   \n",
       "7    676.412271     0.001876    676.212267     0.001689    999.818137   \n",
       "8    676.212267     0.001882    970.017597     0.001715    735.013334   \n",
       "9    968.617571     0.002413    968.817575     0.002012    675.012245   \n",
       "\n",
       "   amplitude_4  frequencia_5  amplitude_5  \n",
       "0     0.001727   1086.019701     0.001690  \n",
       "1     0.001843    980.217782     0.001685  \n",
       "2     0.001687    381.606923     0.001662  \n",
       "3     0.001643    998.618116     0.001617  \n",
       "4     0.001693    702.812749     0.001656  \n",
       "5     0.001911    382.206933     0.001696  \n",
       "6     0.001693    675.412252     0.001667  \n",
       "7     0.001682    970.217600     0.001606  \n",
       "8     0.001709    972.617644     0.001675  \n",
       "9     0.001854    381.606923     0.001702  "
      ]
     },
     "execution_count": 14,
     "metadata": {},
     "output_type": "execute_result"
    }
   ],
   "source": [
    "resultados = pd.read_csv(\"resultados.csv\")\n",
    "resultados.head(10)\n"
   ]
  },
  {
   "cell_type": "markdown",
   "metadata": {},
   "source": [
    "## Padronização dos dados\n",
    "\n",
    "Inicialmente vamos importar as libs para padronizar nossos dados, treinar e testar nossa rede neural."
   ]
  },
  {
   "cell_type": "code",
   "execution_count": 15,
   "metadata": {},
   "outputs": [],
   "source": [
    "from sklearn.model_selection import train_test_split\n",
    "from sklearn.preprocessing import StandardScaler\n",
    "from sklearn.neural_network import MLPClassifier\n",
    "from sklearn.metrics import confusion_matrix, accuracy_score, precision_score, recall_score, f1_score\n",
    "import seaborn as sns\n",
    "import matplotlib.pyplot as plt\n"
   ]
  },
  {
   "cell_type": "markdown",
   "metadata": {},
   "source": [
    "No bloco de código abaixo, estamos realizando as etapas iniciais de preparação dos dados para o treinamento do modelo.\n",
    "\n",
    "* **Leitura dos Dados:**\n",
    "  - Utilizamos a biblioteca Pandas para ler os dados do arquivo _`resultados.csv`_ e armazená-los na variável `data`.\n",
    "\n",
    "* **Separação de Features e Rótulos:**\n",
    "  - O próximo passo é dividir os dados em características (features) e rótulos. As características são armazenadas em `X`, enquanto os rótulos são armazenados em `y`. Isso é feito com base na estrutura do DataFrame, onde a coluna 'defeito' é excluída das características, sendo atribuída a `y`.\n",
    "\n",
    "* **Divisão em Conjuntos de Treinamento e Teste:**\n",
    "  - Utilizamos a função `train_test_split` da biblioteca scikit-learn para dividir nossos dados em conjuntos de treinamento e teste. Aqui, 80% dos dados são destinados ao treinamento (`X_train` e `y_train`), enquanto 20% são reservados para testes (`X_test` e `y_test`). O parâmetro `random_state` é fixado em 42 para garantir a reprodutibilidade dos resultados.\n"
   ]
  },
  {
   "cell_type": "code",
   "execution_count": 16,
   "metadata": {},
   "outputs": [],
   "source": [
    "data = pd.read_csv('resultados.csv')\n",
    "X = data.drop('defeito', axis=1)\n",
    "y = data['defeito']\n",
    "X_train, X_test, y_train, y_test = train_test_split(X, y, test_size=0.2, random_state=42)"
   ]
  },
  {
   "cell_type": "markdown",
   "metadata": {},
   "source": [
    "Nesse momento podemos aplicar uma técnica importante de pré-processamento conhecida como escala padrão (StandardScaler). \n",
    "\n",
    "* **Inicialização do Scaler:**\n",
    "  - Criamos uma instância do `StandardScaler` da biblioteca scikit-learn, representada pela variável `scaler`.\n",
    "\n",
    "* **Escalonamento das Features de Treinamento:**\n",
    "  - Utilizamos o método `fit_transform` do scaler para calcular a média e o desvio padrão das features de treinamento (`X_train`) e, em seguida, escaloná-las. As features escalonadas são armazenadas em `X_train_scaled`.\n",
    "\n",
    "* **Aplicação do Mesmo Escalonamento nas Features de Teste:**\n",
    "  - Utilizamos o método `transform` do scaler para aplicar o mesmo ajuste de escala nas features de teste (`X_test`). As features escalonadas de teste são armazenadas em `X_test_scaled`.\n",
    "\n",
    "O escalonamento é uma prática comum no pré-processamento de dados, especialmente quando lidamos com algoritmos sensíveis à escala das features, como aqueles baseados em distâncias. O `StandardScaler` assegura que as features tenham média zero e desvio padrão igual a um, contribuindo para um treinamento mais eficaz e robusto do modelo.\n"
   ]
  },
  {
   "cell_type": "code",
   "execution_count": 17,
   "metadata": {},
   "outputs": [],
   "source": [
    "scaler = StandardScaler()\n",
    "X_train_scaled = scaler.fit_transform(X_train)\n",
    "X_test_scaled = scaler.transform(X_test)"
   ]
  },
  {
   "cell_type": "markdown",
   "metadata": {},
   "source": [
    "## Treinamento\n",
    "\n",
    "Agora podemos utilizar um classificador de redes neurais artificiais, implementado pelo `MLPClassifier` da biblioteca scikit-learn.\n",
    "\n",
    "* **Definição do Modelo de Rede Neural:**\n",
    "  - Criamos uma instância do `MLPClassifier` e configuramos alguns de seus parâmetros essenciais. No caso, estamos especificando duas camadas ocultas com 100 e 50 neurônios, respectivamente, através do argumento `hidden_layer_sizes`.\n",
    "\n",
    "* **Configuração de Parâmetros Adicionais:**\n",
    "  - Limitamos o número máximo de iterações de treinamento para 500 (`max_iter`) e fixamos a semente aleatória em 42 (`random_state`) para garantir reprodutibilidade.\n",
    "\n",
    "* **Treinamento do Modelo:**\n",
    "  - Utilizamos o método `fit` para treinar o modelo. Os dados de treinamento escalonados (`X_train_scaled` e `y_train`) são passados como argumentos para esse método.\n",
    "\n",
    "Este trecho de código representa a criação, configuração e treinamento da rede neural artificial.\n"
   ]
  },
  {
   "cell_type": "code",
   "execution_count": 18,
   "metadata": {},
   "outputs": [
    {
     "data": {
      "text/html": [
       "<style>#sk-container-id-1 {color: black;background-color: white;}#sk-container-id-1 pre{padding: 0;}#sk-container-id-1 div.sk-toggleable {background-color: white;}#sk-container-id-1 label.sk-toggleable__label {cursor: pointer;display: block;width: 100%;margin-bottom: 0;padding: 0.3em;box-sizing: border-box;text-align: center;}#sk-container-id-1 label.sk-toggleable__label-arrow:before {content: \"▸\";float: left;margin-right: 0.25em;color: #696969;}#sk-container-id-1 label.sk-toggleable__label-arrow:hover:before {color: black;}#sk-container-id-1 div.sk-estimator:hover label.sk-toggleable__label-arrow:before {color: black;}#sk-container-id-1 div.sk-toggleable__content {max-height: 0;max-width: 0;overflow: hidden;text-align: left;background-color: #f0f8ff;}#sk-container-id-1 div.sk-toggleable__content pre {margin: 0.2em;color: black;border-radius: 0.25em;background-color: #f0f8ff;}#sk-container-id-1 input.sk-toggleable__control:checked~div.sk-toggleable__content {max-height: 200px;max-width: 100%;overflow: auto;}#sk-container-id-1 input.sk-toggleable__control:checked~label.sk-toggleable__label-arrow:before {content: \"▾\";}#sk-container-id-1 div.sk-estimator input.sk-toggleable__control:checked~label.sk-toggleable__label {background-color: #d4ebff;}#sk-container-id-1 div.sk-label input.sk-toggleable__control:checked~label.sk-toggleable__label {background-color: #d4ebff;}#sk-container-id-1 input.sk-hidden--visually {border: 0;clip: rect(1px 1px 1px 1px);clip: rect(1px, 1px, 1px, 1px);height: 1px;margin: -1px;overflow: hidden;padding: 0;position: absolute;width: 1px;}#sk-container-id-1 div.sk-estimator {font-family: monospace;background-color: #f0f8ff;border: 1px dotted black;border-radius: 0.25em;box-sizing: border-box;margin-bottom: 0.5em;}#sk-container-id-1 div.sk-estimator:hover {background-color: #d4ebff;}#sk-container-id-1 div.sk-parallel-item::after {content: \"\";width: 100%;border-bottom: 1px solid gray;flex-grow: 1;}#sk-container-id-1 div.sk-label:hover label.sk-toggleable__label {background-color: #d4ebff;}#sk-container-id-1 div.sk-serial::before {content: \"\";position: absolute;border-left: 1px solid gray;box-sizing: border-box;top: 0;bottom: 0;left: 50%;z-index: 0;}#sk-container-id-1 div.sk-serial {display: flex;flex-direction: column;align-items: center;background-color: white;padding-right: 0.2em;padding-left: 0.2em;position: relative;}#sk-container-id-1 div.sk-item {position: relative;z-index: 1;}#sk-container-id-1 div.sk-parallel {display: flex;align-items: stretch;justify-content: center;background-color: white;position: relative;}#sk-container-id-1 div.sk-item::before, #sk-container-id-1 div.sk-parallel-item::before {content: \"\";position: absolute;border-left: 1px solid gray;box-sizing: border-box;top: 0;bottom: 0;left: 50%;z-index: -1;}#sk-container-id-1 div.sk-parallel-item {display: flex;flex-direction: column;z-index: 1;position: relative;background-color: white;}#sk-container-id-1 div.sk-parallel-item:first-child::after {align-self: flex-end;width: 50%;}#sk-container-id-1 div.sk-parallel-item:last-child::after {align-self: flex-start;width: 50%;}#sk-container-id-1 div.sk-parallel-item:only-child::after {width: 0;}#sk-container-id-1 div.sk-dashed-wrapped {border: 1px dashed gray;margin: 0 0.4em 0.5em 0.4em;box-sizing: border-box;padding-bottom: 0.4em;background-color: white;}#sk-container-id-1 div.sk-label label {font-family: monospace;font-weight: bold;display: inline-block;line-height: 1.2em;}#sk-container-id-1 div.sk-label-container {text-align: center;}#sk-container-id-1 div.sk-container {/* jupyter's `normalize.less` sets `[hidden] { display: none; }` but bootstrap.min.css set `[hidden] { display: none !important; }` so we also need the `!important` here to be able to override the default hidden behavior on the sphinx rendered scikit-learn.org. See: https://github.com/scikit-learn/scikit-learn/issues/21755 */display: inline-block !important;position: relative;}#sk-container-id-1 div.sk-text-repr-fallback {display: none;}</style><div id=\"sk-container-id-1\" class=\"sk-top-container\"><div class=\"sk-text-repr-fallback\"><pre>MLPClassifier(hidden_layer_sizes=(100, 50), max_iter=500, random_state=42)</pre><b>In a Jupyter environment, please rerun this cell to show the HTML representation or trust the notebook. <br />On GitHub, the HTML representation is unable to render, please try loading this page with nbviewer.org.</b></div><div class=\"sk-container\" hidden><div class=\"sk-item\"><div class=\"sk-estimator sk-toggleable\"><input class=\"sk-toggleable__control sk-hidden--visually\" id=\"sk-estimator-id-1\" type=\"checkbox\" checked><label for=\"sk-estimator-id-1\" class=\"sk-toggleable__label sk-toggleable__label-arrow\">MLPClassifier</label><div class=\"sk-toggleable__content\"><pre>MLPClassifier(hidden_layer_sizes=(100, 50), max_iter=500, random_state=42)</pre></div></div></div></div></div>"
      ],
      "text/plain": [
       "MLPClassifier(hidden_layer_sizes=(100, 50), max_iter=500, random_state=42)"
      ]
     },
     "execution_count": 18,
     "metadata": {},
     "output_type": "execute_result"
    }
   ],
   "source": [
    "model = MLPClassifier(hidden_layer_sizes=(100, 50), max_iter=500, random_state=42)\n",
    "model.fit(X_train_scaled, y_train)"
   ]
  },
  {
   "cell_type": "markdown",
   "metadata": {},
   "source": [
    "## Testes\n",
    "\n",
    "Com a rede neura treinada, chegou o momento de de utilizar o conjunto de testes para validação do modelo treinado.\n",
    "* **Previsão com Dados de Teste:**\n",
    "  - Utilizamos o método `predict` do modelo (`model`) para gerar previsões com base nas features escalonadas de teste (`X_test_scaled`). As previsões são armazenadas na variável `y_pred`.\n",
    "\n",
    "* **Construção da Matriz de Confusão:**\n",
    "  - Utilizamos a função `confusion_matrix` da biblioteca scikit-learn para comparar as previsões (`y_pred`) com os rótulos reais de teste (`y_test`). A matriz de confusão é armazenada na variável `conf_matrix`.\n",
    "\n",
    "* **Impressão da Matriz de Confusão:**\n",
    "  - Por fim, exibimos a matriz de confusão no console por meio do comando `print`. A matriz de confusão é uma ferramenta essencial para avaliar o desempenho de um modelo de classificação, fornecendo insights sobre a precisão das previsões para cada classe.\n",
    "\n",
    "Esse conjunto de instruções é fundamental para entender como o modelo se comporta em relação aos dados de teste e identificar possíveis áreas de melhoria ou ajuste. A análise da matriz de confusão é crucial para avaliar a performance em termos de verdadeiros positivos, verdadeiros negativos, falsos positivos e falsos negativos.\n"
   ]
  },
  {
   "cell_type": "code",
   "execution_count": 19,
   "metadata": {},
   "outputs": [
    {
     "name": "stdout",
     "output_type": "stream",
     "text": [
      "Matriz de Confusão:\n",
      "[[25  0  0  0  6  0  0  0  0]\n",
      " [ 0 32  0  0  0  2  0  0  0]\n",
      " [ 0  0 32  0  0  0  0  0  0]\n",
      " [ 0  0  0 33  0  0  0  0  0]\n",
      " [ 4  0  0  0 20  0  0  0  0]\n",
      " [ 0  1  0  0  1 27  0  0  0]\n",
      " [ 0  0  0  0  0  0 29  0  0]\n",
      " [ 0  0  0  0  0  0  0 33  0]\n",
      " [ 0  0  0  0  0  0  0  0 26]]\n"
     ]
    }
   ],
   "source": [
    "y_pred = model.predict(X_test_scaled)\n",
    "conf_matrix = confusion_matrix(y_test, y_pred)\n",
    "print(\"Matriz de Confusão:\")\n",
    "print(conf_matrix)"
   ]
  },
  {
   "cell_type": "markdown",
   "metadata": {},
   "source": [
    "## Resultados\n",
    "\n",
    "* **Acurácia (Accuracy):**\n",
    "  - A acurácia é uma métrica geral que mede a proporção de previsões corretas em relação ao total. Neste contexto, ela indica a precisão global do modelo em classificar corretamente os dados de teste.\n",
    "\n",
    "* **Precisão (Precision):**\n",
    "  - A precisão é a razão de verdadeiros positivos sobre a soma de verdadeiros positivos e falsos positivos. Essa métrica é valiosa quando queremos garantir que as previsões positivas do modelo sejam confiáveis, minimizando os falsos positivos.\n",
    "\n",
    "* **Revocação (Recall):**\n",
    "  - A revocação é a razão de verdadeiros positivos sobre a soma de verdadeiros positivos e falsos negativos. É crucial quando desejamos identificar a capacidade do modelo em capturar todos os casos positivos, minimizando os falsos negativos.\n",
    "\n",
    "* **F1-Score:**\n",
    "  - O F1-Score é uma média harmônica da precisão e da revocação. Essa métrica é particularmente útil quando há desequilíbrio entre as classes, pois oferece um equilíbrio entre a precisão e a revocação.\n",
    "\n",
    "A impressão dessas métricas fornece uma visão abrangente do desempenho do modelo em várias dimensões. Interpretar essas métricas em conjunto permite uma avaliação mais completa e ajuda na identificação de possíveis áreas de melhoria ou ajuste no modelo de classificação.\n",
    "\n"
   ]
  },
  {
   "cell_type": "code",
   "execution_count": 20,
   "metadata": {},
   "outputs": [
    {
     "name": "stdout",
     "output_type": "stream",
     "text": [
      "Acurácia do modelo: 0.948339483394834\n",
      "Precisão do modelo: 0.9500797515812149\n",
      "Revocação do modelo: 0.948339483394834\n",
      "F1-Score do modelo: 0.9488356999461126\n"
     ]
    }
   ],
   "source": [
    "accuracy = accuracy_score(y_test, y_pred)\n",
    "precision = precision_score(y_test, y_pred, average='weighted')\n",
    "recall = recall_score(y_test, y_pred, average='weighted')\n",
    "f1 = f1_score(y_test, y_pred, average='weighted')\n",
    "\n",
    "print(f'Acurácia do modelo: {accuracy}')\n",
    "print(f'Precisão do modelo: {precision}')\n",
    "print(f'Revocação do modelo: {recall}')\n",
    "print(f'F1-Score do modelo: {f1}')"
   ]
  },
  {
   "cell_type": "markdown",
   "metadata": {},
   "source": [
    "* **Criação da Figura com Seaborn e Matplotlib:**\n",
    "  - Utilizamos o `plt.figure(figsize=(8, 6))` para definir o tamanho da figura que irá conter a matriz de confusão. Em seguida, empregamos `sns.heatmap` para criar a visualização da matriz.\n",
    "\n",
    "* **Parâmetros do Heatmap:**\n",
    "  - O argumento `annot=True` adiciona os valores reais da matriz nas células, enquanto `fmt='d'` formata esses valores como inteiros. O `cmap='Blues'` define o esquema de cores azuis para a visualização.\n",
    "\n",
    "* **Rótulos e Título:**\n",
    "  - `xticklabels` e `yticklabels` são configurados para exibir os rótulos das classes ao longo dos eixos x e y, respectivamente. O título 'Matriz de Confusão' é adicionado para contextualizar a visualização.\n",
    "\n",
    "* **Exibição do Heatmap:**\n",
    "  - Finalmente, `plt.show()` é utilizado para exibir a visualização completa da matriz de confusão.\n",
    "\n",
    "A Matriz de Confusão fornece uma representação gráfica das previsões do modelo em relação aos rótulos reais. Cada célula mostra o número de instâncias classificadas corretamente ou incorretamente para cada classe. Essa visualização é valiosa para entender quais classes o modelo confunde com mais frequência e onde pode haver oportunidades de melhoria.\n"
   ]
  },
  {
   "cell_type": "code",
   "execution_count": 21,
   "metadata": {},
   "outputs": [
    {
     "data": {
      "image/png": "[encoded data removed]",
      "text/plain": [
       "<Figure size 800x600 with 2 Axes>"
      ]
     },
     "metadata": {},
     "output_type": "display_data"
    }
   ],
   "source": [
    "plt.figure(figsize=(8, 6))\n",
    "sns.heatmap(conf_matrix, annot=True, fmt='d', cmap='Blues', xticklabels=model.classes_, yticklabels=model.classes_)\n",
    "plt.title('Matriz de Confusão')\n",
    "plt.xlabel('Previsão')\n",
    "plt.ylabel('Real')\n",
    "plt.show()"
   ]
  },
  {
   "cell_type": "markdown",
   "metadata": {},
   "source": [
    "Para abrir o repositorio remoto do projeto no GitHub [Clique aqui](https://github.com/WellysonP/Projeto_IA) \n"
   ]
  }
 ],
 "metadata": {
  "kernelspec": {
   "display_name": "Python 3",
   "language": "python",
   "name": "python3"
  },
  "language_info": {
   "codemirror_mode": {
    "name": "ipython",
    "version": 3
   },
   "file_extension": ".py",
   "mimetype": "text/x-python",
   "name": "python",
   "nbconvert_exporter": "python",
   "pygments_lexer": "ipython3",
   "version": "3.11.4"
  }
 },
 "nbformat": 4,
 "nbformat_minor": 2
}
